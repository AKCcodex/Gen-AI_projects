{
  "cells": [
    {
      "cell_type": "code",
      "execution_count": null,
      "metadata": {
        "id": "XsVUKziuZgxp"
      },
      "outputs": [],
      "source": []
    },
    {
      "cell_type": "code",
      "execution_count": null,
      "metadata": {
        "id": "3PLy_cdP5RDm"
      },
      "outputs": [],
      "source": [
        "\n",
        "!pip install -q youtube-transcript-api \\\n",
        "               langchain-community \\\n",
        "               langchain-huggingface \\\n",
        "               faiss-cpu \\\n",
        "               sentence-transformers \\\n",
        "               transformers \\\n",
        "               python-dotenv\n"
      ]
    },
    {
      "cell_type": "code",
      "execution_count": null,
      "metadata": {
        "id": "4ykYbW-I7fzh"
      },
      "outputs": [],
      "source": [
        "\n",
        "from youtube_transcript_api import YouTubeTranscriptApi, TranscriptsDisabled\n",
        "from langchain.text_splitter import RecursiveCharacterTextSplitter\n",
        "from langchain_community.vectorstores import FAISS\n",
        "from langchain_core.prompts import PromptTemplate\n",
        "from langchain_community.embeddings import HuggingFaceEmbeddings\n",
        "from langchain_huggingface import ChatHuggingFace, HuggingFaceEndpoint\n",
        "\n"
      ]
    },
    {
      "cell_type": "code",
      "execution_count": null,
      "metadata": {
        "colab": {
          "base_uri": "https://localhost:8080/"
        },
        "id": "oYVRIMtF6fhJ",
        "outputId": "bcc1f2ae-4a5c-4003-f6df-a14fca17ecf0"
      },
      "outputs": [
        {
          "name": "stdout",
          "output_type": "stream",
          "text": [
            "the following is a conversation with demus hasabis ceo and co-founder of deepmind a company that has published and builds some of the most incredible artificial intelligence systems in the history of computing including alfred zero that learned all by itself to play the game of gold better than any human in the world and alpha fold two that solved protein folding both tasks considered nearly impossible for a very long time demus is widely considered to be one of the most brilliant and impactful humans in the history of artificial intelligence and science and engineering in general this was truly an honor and a pleasure for me to finally sit down with him for this conversation and i'm sure we will talk many times again in the future this is the lex friedman podcast to support it please check out our sponsors in the description and now dear friends here's demis hassabis let's start with a bit of a personal question am i an ai program you wrote to interview people until i get good enough \n"
          ]
        }
      ],
      "source": [
        "\n",
        "video_id = \"Gfr50f6ZBvo\" # only the ID, not full URL\n",
        "try:\n",
        "    # If you don’t care which language, this returns the “best” one\n",
        "    transcript_list = YouTubeTranscriptApi.get_transcript(video_id, languages=[\"en\"])\n",
        "\n",
        "    # Flatten it to plain text\n",
        "    transcript = \" \".join(chunk[\"text\"] for chunk in transcript_list)\n",
        "    trimmed_transcript = transcript[:1000]\n",
        "    print(trimmed_transcript)\n",
        "\n",
        "except TranscriptsDisabled:\n",
        "    print(\"No captions available for this video.\")"
      ]
    },
    {
      "cell_type": "code",
      "execution_count": null,
      "metadata": {
        "colab": {
          "base_uri": "https://localhost:8080/"
        },
        "id": "Ob89WV-F6k8y",
        "outputId": "4f921989-ceeb-4c78-f204-804ceec7b691"
      },
      "outputs": [
        {
          "data": {
            "text/plain": [
              "[{'text': 'the following is a conversation with',\n",
              "  'start': 0.08,\n",
              "  'duration': 3.44},\n",
              " {'text': 'demus hasabis', 'start': 1.76, 'duration': 4.96},\n",
              " {'text': 'ceo and co-founder of deepmind', 'start': 3.52, 'duration': 5.119},\n",
              " {'text': 'a company that has published and builds',\n",
              "  'start': 6.72,\n",
              "  'duration': 4.48},\n",
              " {'text': 'some of the most incredible artificial',\n",
              "  'start': 8.639,\n",
              "  'duration': 4.561},\n",
              " {'text': 'intelligence systems in the history of',\n",
              "  'start': 11.2,\n",
              "  'duration': 4.8},\n",
              " {'text': 'computing including alfred zero that',\n",
              "  'start': 13.2,\n",
              "  'duration': 3.68},\n",
              " {'text': 'learned', 'start': 16.0, 'duration': 2.96},\n",
              " {'text': 'all by itself to play the game of gold',\n",
              "  'start': 16.88,\n",
              "  'duration': 4.559},\n",
              " {'text': 'better than any human in the world and',\n",
              "  'start': 18.96,\n",
              "  'duration': 5.6},\n",
              " {'text': 'alpha fold two that solved protein',\n",
              "  'start': 21.439,\n",
              "  'duration': 4.241},\n",
              " {'text': 'folding', 'start': 24.56, 'duration': 4.16},\n",
              " {'text': 'both tasks considered nearly impossible',\n",
              "  'start': 25.68,\n",
              "  'duration': 5.439},\n",
              " {'text': 'for a very long time', 'start': 28.72, 'duration': 4.4},\n",
              " {'text': 'demus is widely considered to be one of',\n",
              "  'start': 31.119,\n",
              "  'duration': 4.481},\n",
              " {'text': 'the most brilliant and impactful humans',\n",
              "  'start': 33.12,\n",
              "  'duration': 4.0},\n",
              " {'text': 'in the history of artificial', 'start': 35.6, 'duration': 4.24},\n",
              " {'text': 'intelligence and science and engineering',\n",
              "  'start': 37.12,\n",
              "  'duration': 4.0},\n",
              " {'text': 'in general', 'start': 39.84, 'duration': 3.92},\n",
              " {'text': 'this was truly an honor and a pleasure',\n",
              "  'start': 41.12,\n",
              "  'duration': 4.959},\n",
              " {'text': 'for me to finally sit down with him for',\n",
              "  'start': 43.76,\n",
              "  'duration': 4.799},\n",
              " {'text': \"this conversation and i'm sure we will\",\n",
              "  'start': 46.079,\n",
              "  'duration': 5.361},\n",
              " {'text': 'talk many times again in the future',\n",
              "  'start': 48.559,\n",
              "  'duration': 4.721},\n",
              " {'text': 'this is the lex friedman podcast to',\n",
              "  'start': 51.44,\n",
              "  'duration': 4.0},\n",
              " {'text': 'support it please check out our sponsors',\n",
              "  'start': 53.28,\n",
              "  'duration': 4.959},\n",
              " {'text': 'in the description and now dear friends',\n",
              "  'start': 55.44,\n",
              "  'duration': 4.16},\n",
              " {'text': \"here's demis\", 'start': 58.239, 'duration': 3.201},\n",
              " {'text': 'hassabis', 'start': 59.6, 'duration': 3.36},\n",
              " {'text': \"let's start with a bit of a personal\",\n",
              "  'start': 61.44,\n",
              "  'duration': 2.48},\n",
              " {'text': 'question', 'start': 62.96, 'duration': 3.839},\n",
              " {'text': 'am i an ai program you wrote to', 'start': 63.92, 'duration': 4.8},\n",
              " {'text': 'interview people until i get good enough',\n",
              "  'start': 66.799,\n",
              "  'duration': 4.161},\n",
              " {'text': 'to interview you', 'start': 68.72, 'duration': 4.24},\n",
              " {'text': \"well i'll be impressed if if you were\",\n",
              "  'start': 70.96,\n",
              "  'duration': 3.839},\n",
              " {'text': \"i'd be impressed by myself if you were i\",\n",
              "  'start': 72.96,\n",
              "  'duration': 3.44},\n",
              " {'text': \"don't think we're quite up to that yet\",\n",
              "  'start': 74.799,\n",
              "  'duration': 3.921},\n",
              " {'text': \"but uh maybe you're from the future lex\",\n",
              "  'start': 76.4,\n",
              "  'duration': 4.48},\n",
              " {'text': 'if you did would you tell me is that is',\n",
              "  'start': 78.72,\n",
              "  'duration': 3.84},\n",
              " {'text': 'that a good thing to tell a language',\n",
              "  'start': 80.88,\n",
              "  'duration': 4.08},\n",
              " {'text': \"model that's tasked with interviewing\",\n",
              "  'start': 82.56,\n",
              "  'duration': 5.199},\n",
              " {'text': \"that it is in fact um ai maybe we're in\",\n",
              "  'start': 84.96,\n",
              "  'duration': 5.28},\n",
              " {'text': 'a kind of meta turing test uh probably',\n",
              "  'start': 87.759,\n",
              "  'duration': 4.081},\n",
              " {'text': 'probably it would be a good idea not to',\n",
              "  'start': 90.24,\n",
              "  'duration': 2.96},\n",
              " {'text': \"tell you so it doesn't change your\",\n",
              "  'start': 91.84,\n",
              "  'duration': 2.88},\n",
              " {'text': 'behavior right this is a kind of', 'start': 93.2, 'duration': 3.2},\n",
              " {'text': 'heisenberg uncertainty principle',\n",
              "  'start': 94.72,\n",
              "  'duration': 3.359},\n",
              " {'text': 'situation if i told you you behave',\n",
              "  'start': 96.4,\n",
              "  'duration': 3.12},\n",
              " {'text': \"differently yeah maybe that's what's\",\n",
              "  'start': 98.079,\n",
              "  'duration': 3.201},\n",
              " {'text': 'happening with us of course this is a',\n",
              "  'start': 99.52,\n",
              "  'duration': 4.0},\n",
              " {'text': 'benchmark from the future where they',\n",
              "  'start': 101.28,\n",
              "  'duration': 6.56}]"
            ]
          },
          "execution_count": 334,
          "metadata": {},
          "output_type": "execute_result"
        }
      ],
      "source": [
        "trimmed_transcript_list = transcript_list[:50]\n",
        "trimmed_transcript_list"
      ]
    },
    {
      "cell_type": "code",
      "execution_count": null,
      "metadata": {
        "id": "TebZg_d0LZEl"
      },
      "outputs": [],
      "source": [
        "splitter = RecursiveCharacterTextSplitter(chunk_size=1000,chunk_overlap=150)\n",
        "chunks = splitter.create_documents([transcript])"
      ]
    },
    {
      "cell_type": "code",
      "execution_count": null,
      "metadata": {
        "colab": {
          "base_uri": "https://localhost:8080/"
        },
        "id": "pt7_9cd8LacI",
        "outputId": "d48bb146-0eee-4170-b8c3-0f655d80a2af"
      },
      "outputs": [
        {
          "data": {
            "text/plain": [
              "158"
            ]
          },
          "execution_count": 336,
          "metadata": {},
          "output_type": "execute_result"
        }
      ],
      "source": [
        "\n",
        "len(chunks)"
      ]
    },
    {
      "cell_type": "code",
      "execution_count": null,
      "metadata": {
        "colab": {
          "base_uri": "https://localhost:8080/"
        },
        "id": "Lh2x_0YjLd3C",
        "outputId": "40244bf5-5531-424c-809d-8290b5d7a5bd"
      },
      "outputs": [
        {
          "data": {
            "text/plain": [
              "Document(metadata={}, page_content=\"the following is a conversation with demus hasabis ceo and co-founder of deepmind a company that has published and builds some of the most incredible artificial intelligence systems in the history of computing including alfred zero that learned all by itself to play the game of gold better than any human in the world and alpha fold two that solved protein folding both tasks considered nearly impossible for a very long time demus is widely considered to be one of the most brilliant and impactful humans in the history of artificial intelligence and science and engineering in general this was truly an honor and a pleasure for me to finally sit down with him for this conversation and i'm sure we will talk many times again in the future this is the lex friedman podcast to support it please check out our sponsors in the description and now dear friends here's demis hassabis let's start with a bit of a personal question am i an ai program you wrote to interview people until i get good enough\")"
            ]
          },
          "execution_count": 337,
          "metadata": {},
          "output_type": "execute_result"
        }
      ],
      "source": [
        "\n",
        "chunks[0]"
      ]
    },
    {
      "cell_type": "code",
      "execution_count": null,
      "metadata": {
        "id": "C37xSKJ3LkN5"
      },
      "outputs": [],
      "source": [
        "\n",
        "embeddings = HuggingFaceEmbeddings(model_name=\"sentence-transformers/all-MiniLM-L6-v2\")"
      ]
    },
    {
      "cell_type": "code",
      "execution_count": null,
      "metadata": {
        "id": "tJvKQPodLmSX"
      },
      "outputs": [],
      "source": [
        "\n",
        "vector_store = FAISS.from_documents(chunks, embeddings)"
      ]
    },
    {
      "cell_type": "code",
      "execution_count": null,
      "metadata": {
        "colab": {
          "base_uri": "https://localhost:8080/"
        },
        "id": "QVFv6lO1LnTB",
        "outputId": "eaeb4cb6-61dd-408a-9feb-1d12e6e79d2e"
      },
      "outputs": [
        {
          "data": {
            "text/plain": [
              "{0: '450c9052-16a0-4471-a00f-9d2f8545445b',\n",
              " 1: '4922e377-9803-4701-a917-e3222e7b4b88',\n",
              " 2: '22c51755-3c60-4143-8eb4-0d01cb303cd1',\n",
              " 3: 'ecab06de-cd26-474f-a574-46a7272fc3a7',\n",
              " 4: 'f2ea5625-4358-4962-9c2f-e8ef059da23d',\n",
              " 5: '39aaffef-86d4-4610-9017-bf0d078d1c8e',\n",
              " 6: 'a4140808-06ee-47cc-9398-c9f3b04ccf42',\n",
              " 7: 'e2c0558c-9655-4548-8e63-2191a7540eec',\n",
              " 8: '068fa7f6-a600-4947-b41c-c0dbadeb2828',\n",
              " 9: 'd603a5fa-9805-4204-9d29-bef6db4d7520',\n",
              " 10: 'c1d88907-9803-4567-8658-04b3fd6aa212',\n",
              " 11: '36168fc7-8bf3-4ff7-a18a-0084e777238b',\n",
              " 12: 'a0366790-d43b-45ae-80fa-c02acd4c9d01',\n",
              " 13: '0ea2125b-53e5-4f23-98d0-c78c08f76b1a',\n",
              " 14: '724d3950-9b4c-428b-9f65-a9ff031efa44',\n",
              " 15: '61e7c3c9-0466-4d55-8070-d12aacfb06f2',\n",
              " 16: '6fd3e656-3772-44a2-bc96-1bd654e81386',\n",
              " 17: '0b709582-e43b-41ab-805a-8b8107b75fb7',\n",
              " 18: '719b7b35-840b-47a5-bbb6-f858f77b9e05',\n",
              " 19: 'cfe1bd17-208d-4597-80bf-8d5b4ee33988',\n",
              " 20: '46d8171a-2628-4c0e-b43c-2a40eff8a9f8',\n",
              " 21: '08b83bfe-431a-4cdc-96d6-1b26a28bc018',\n",
              " 22: '5a8b1a87-f127-48f7-8150-fa2be5c2fc38',\n",
              " 23: 'bc287db9-24e3-470d-82f0-4a0434f43bc9',\n",
              " 24: '13e4cc9f-c8d1-4964-b59b-3d72c7a57b18',\n",
              " 25: 'd67af4c8-965d-45f3-a8e4-77ff25705247',\n",
              " 26: 'd21592c3-3dec-4f21-918d-1b891fcb086d',\n",
              " 27: 'fa857964-a656-40cf-87b1-1ab8a08f9175',\n",
              " 28: 'c6c749ce-cfe8-4ad2-9786-8e945ec4b853',\n",
              " 29: 'e74b2c75-c175-4c0f-833a-bb235a8e78fa',\n",
              " 30: '88068a52-952c-41e1-890d-836e46a58216',\n",
              " 31: '929db4ed-8f07-45f7-9b43-7879dd1a4b5a',\n",
              " 32: '0b8c63fb-0478-4178-ba2a-e92da8b1b0a6',\n",
              " 33: 'c1081fac-11f7-47f3-ac2b-2fb71064fc09',\n",
              " 34: 'cf32bbff-fafd-44be-9584-d678e515a2a8',\n",
              " 35: '931fd898-f34f-4bbc-ac9d-eae744272904',\n",
              " 36: '264dc519-dd35-4352-a727-d7fa23f66943',\n",
              " 37: '2aeffdc1-cfb7-459a-9d8e-24680830ace9',\n",
              " 38: '108ef9bc-97cb-4b2d-a4c5-c23ba18207ba',\n",
              " 39: 'c9a9ccdc-aa04-4111-8f4e-7d43ea087d72',\n",
              " 40: '86a688ea-542b-4eba-b542-45738161052e',\n",
              " 41: '1c400a5d-7808-4340-b26a-920f4cb5bd0a',\n",
              " 42: '569dfc6e-8cf8-4b1e-8558-9cf7597d106a',\n",
              " 43: '3a0d4921-87a1-4845-83b8-f3f5a4ce7dea',\n",
              " 44: '01e0bb76-ba3f-4214-b740-a339f4ea895f',\n",
              " 45: 'b133de4f-7a87-4396-8255-81dcb8c47f95',\n",
              " 46: '14f3469e-7a71-43db-9382-95d3c89d10dd',\n",
              " 47: 'e57cf585-a29d-4ac9-9aa3-17c1ea630c0f',\n",
              " 48: '30136131-899d-4060-9644-0cddd2791309',\n",
              " 49: '6b95a186-1db0-4cbc-bc61-680de62cf4e4',\n",
              " 50: 'b505abb7-df2e-42b4-b833-ee0e61aed7d9',\n",
              " 51: 'e84e93ac-50ef-414c-937f-d51c64ad87d3',\n",
              " 52: 'f0a655c6-5c89-4e49-b839-ce08754ae841',\n",
              " 53: '083136fb-b13a-421c-9919-d170f7db47c6',\n",
              " 54: '41f1074e-648f-471b-80e0-9e20550e6162',\n",
              " 55: '0bfa06a8-c0b7-4837-8034-f31dbfafd8ac',\n",
              " 56: '448d3d98-d52e-4ddf-8209-9ca8f025cff7',\n",
              " 57: '98677169-1a16-4f3a-b962-9a98a86ccc87',\n",
              " 58: '7375ea06-5710-4b37-b079-3b2ef1ffaadb',\n",
              " 59: 'a45cf678-2bf1-4165-b75a-069eb9bc4847',\n",
              " 60: '7f58707a-9cfd-42d9-a0a6-9ef06ecfec0d',\n",
              " 61: '1db387b0-fe8d-426f-ae54-1fa0deb56f9a',\n",
              " 62: 'e89ec787-7196-4b20-8428-b32b6b6de0e9',\n",
              " 63: '98592386-2f38-4d04-9106-6eebf08f997a',\n",
              " 64: '0afdb009-afb3-496d-be42-6c36e6f53c69',\n",
              " 65: 'ccfa12d4-6262-47be-bb43-401cc18b3de8',\n",
              " 66: '1c27ccde-6698-45f8-be7b-98d5b3b23c40',\n",
              " 67: '06dca67f-4c52-4881-93f1-eb1e2b83a9c1',\n",
              " 68: '5a1bcf5c-c9c8-47c8-99b0-3e3d834ed9d2',\n",
              " 69: '83619178-9598-4025-937f-cf034160c00d',\n",
              " 70: 'c3723ead-3f91-40e5-ba08-1858e5d7a385',\n",
              " 71: 'd2669f75-50f6-4683-8dce-021e6194bf1c',\n",
              " 72: '51d7e643-3017-46fa-9ebc-e77073bcf71f',\n",
              " 73: '036d3d5e-86ee-48c7-9f64-a5746d1113a7',\n",
              " 74: '067ff013-de17-455c-a922-44db4ff764b8',\n",
              " 75: '481f4007-567b-40c6-8122-11b0d3d35e58',\n",
              " 76: 'e55c5b53-7972-4509-a20f-5b0a7e7f2fbd',\n",
              " 77: '78bf3de8-9ff9-4055-878e-12e31405b60a',\n",
              " 78: 'ca01335d-3a03-4488-a76d-d25fec28c7e9',\n",
              " 79: 'b4339a90-00d7-4a93-8aa8-69d6366efc2c',\n",
              " 80: 'da5d13cd-d8ef-489b-a36e-6c1d6d109a65',\n",
              " 81: 'ec8e95ea-bd9e-46cd-8729-13003d561727',\n",
              " 82: 'c24ed088-33b0-4319-9397-c81831566cbb',\n",
              " 83: '523f3c51-d8f6-4a18-a776-9a5a8f285994',\n",
              " 84: '400aa147-6fb7-4bd5-91e3-7ac3f075596c',\n",
              " 85: '0ebae0d9-3683-4300-9cf6-e7586cc80bbd',\n",
              " 86: 'a02bb687-d598-454c-b218-02ad98c30809',\n",
              " 87: '7e7b45a8-de57-48b6-96ff-1d75648c5e18',\n",
              " 88: '4b46a29f-444e-471b-ae31-bf29fc52cbe3',\n",
              " 89: '93e96440-a8e6-4466-82a4-1ff2c29ee6b4',\n",
              " 90: 'c666f25c-3d4b-4b0d-b519-6ef835d6b296',\n",
              " 91: '53ec32b1-1709-4c39-bbff-4b65d335c2e2',\n",
              " 92: '7c69678b-b979-45d7-8ba1-99a7aee7fff0',\n",
              " 93: '261e33e7-7749-44e5-abc8-eedabbc9309a',\n",
              " 94: 'a4f118ac-fd7e-497b-9ae0-76c8f9c5af43',\n",
              " 95: 'ff64525e-2471-4172-8254-80bddc4c9a81',\n",
              " 96: '25d77819-79d2-4fd5-94cb-1e6fa9700612',\n",
              " 97: '878b42cd-9318-4009-acd7-e6344a0e5c07',\n",
              " 98: 'd2f72ded-ca2f-4b9d-8727-398c025d3ee1',\n",
              " 99: 'a956a903-1649-478c-afea-365519f8542f',\n",
              " 100: '68fcd17b-6345-4e52-84fb-4f99d776bbbd',\n",
              " 101: '2ed3f08f-52eb-4540-b9a2-1a96d69bd10e',\n",
              " 102: '5c7cfa53-7365-41af-925e-c90955190262',\n",
              " 103: '96279bf2-fa8f-4cb7-bd94-2b899b934be0',\n",
              " 104: 'e689348c-956f-477c-8ead-461b2485cc6e',\n",
              " 105: 'a284842f-b06e-44bc-bb78-6ff9e9974da8',\n",
              " 106: 'ab91bead-4d43-48e2-b936-6f2fc31aefa8',\n",
              " 107: 'e4713a40-a8dc-4b28-9969-85bb97fd9cfb',\n",
              " 108: 'afe984be-1c58-4f45-acf8-2dcf44dce9ff',\n",
              " 109: 'e05cefcd-abfd-44a5-9b70-cbc7001650a2',\n",
              " 110: '518cb57b-d26f-44b8-9bb5-1e95ef2945b1',\n",
              " 111: 'a7a59fde-1985-49ed-8158-a11a49fcfa33',\n",
              " 112: '96df01f7-c7b9-4294-baac-204920e2a8e9',\n",
              " 113: '5d24c871-ca2e-47a7-8e50-4f6192a4d222',\n",
              " 114: '33450491-57df-411e-aeb2-edaf73bf406a',\n",
              " 115: 'c6ef663b-1b23-4be0-b09e-1b124a227901',\n",
              " 116: 'e264f57d-6e1e-4b51-8bfe-e50543ac4cb1',\n",
              " 117: 'd7b3c621-ea87-4e7c-b361-0d75884bda56',\n",
              " 118: '9d97fe12-3f09-4c41-b5b0-e81935ce591c',\n",
              " 119: 'a72e6d12-5dc3-4570-825f-550eed9cb408',\n",
              " 120: '68f96eba-81bb-4ad8-85ad-1f9f036a638b',\n",
              " 121: '9d4f8238-8098-4e6d-9628-c8b9b15fd128',\n",
              " 122: 'c4f49aeb-1f24-475d-9f46-8aabe35af1f2',\n",
              " 123: 'dfc2af85-d3b8-4966-9f07-7a948138c73e',\n",
              " 124: '15b2edec-0b31-469c-8be2-4a89b5a3d732',\n",
              " 125: 'fdf73c9a-9b8a-4a7c-bb65-cf6b7c15d2ef',\n",
              " 126: 'b9b275b3-58ab-4767-9ac5-d8a7ffd267df',\n",
              " 127: '9fad5974-57bd-4670-8b03-56002cac42c4',\n",
              " 128: 'ecde4bc6-b716-40f5-98d4-e1e88743e664',\n",
              " 129: '03e84172-5b15-44ba-b8dc-fa76f85f7573',\n",
              " 130: 'c2c381a9-4322-4bad-b908-b863bcac47c5',\n",
              " 131: '0f7ff002-a097-40cf-827a-4a590e2b3cbc',\n",
              " 132: 'c0d86a79-a11a-4595-bb18-96dd880bdc4f',\n",
              " 133: '3b86e391-61bb-489d-b7ba-cea5d7e5ac1e',\n",
              " 134: 'ab159511-d433-47dc-b299-45c00ff8f1e5',\n",
              " 135: 'b1afc9f0-8daa-4b2a-a3c6-6d03ac6fc9f6',\n",
              " 136: '1455b4c4-1740-4ed2-9b6a-1ec0c8fc8f70',\n",
              " 137: '0d54097a-95c0-4a45-b2b4-c4928db82d37',\n",
              " 138: '43739565-6236-491d-9a47-c9442685c41c',\n",
              " 139: '18e147ad-6a25-41f9-8d5a-9588219b44d7',\n",
              " 140: 'c7bc5364-f2ea-4203-b3fd-a0cb66613276',\n",
              " 141: '8460be1e-924b-40dd-bbce-a0b2eb8089ff',\n",
              " 142: '1c7131fd-d8a2-47d0-b93a-112224f2902a',\n",
              " 143: '965bb36d-3d5d-443e-bf5d-fcf0e1b938d4',\n",
              " 144: '2bb7836c-4815-4a61-be30-59aab252fdd0',\n",
              " 145: '9c74ad30-e975-450a-9cc2-e71fa90441ef',\n",
              " 146: 'b1c5e146-9c57-46a5-b4bc-f325ae654d01',\n",
              " 147: '1aefd8e8-245e-4093-a9b9-d5f071c7f6cf',\n",
              " 148: '8eb03494-5c5d-4aab-8c9b-a84c33aeed66',\n",
              " 149: 'cc83dc78-43b7-4ea9-8915-6453ac2e5361',\n",
              " 150: '17b42402-395d-4792-9611-4778df253aea',\n",
              " 151: '99c1b50a-4caa-45fa-a501-777074eb11bb',\n",
              " 152: 'f932324d-4465-44c4-93a8-a2b2ef013103',\n",
              " 153: '8121cf84-fa0f-4555-9a0c-e9b523cc706f',\n",
              " 154: '23c61ebd-c057-44d3-bb89-b52672a05d1c',\n",
              " 155: '40838eba-c1cd-470f-8c69-178fa1a76713',\n",
              " 156: 'f1731e06-804b-4fd5-9c91-7bc437cd79e5',\n",
              " 157: '24c175dc-c0bf-46bd-bd01-101879949026'}"
            ]
          },
          "execution_count": 340,
          "metadata": {},
          "output_type": "execute_result"
        }
      ],
      "source": [
        "\n",
        "vector_store.index_to_docstore_id"
      ]
    },
    {
      "cell_type": "code",
      "execution_count": null,
      "metadata": {
        "colab": {
          "base_uri": "https://localhost:8080/"
        },
        "id": "g3yQiDD3LnVJ",
        "outputId": "bd0fc757-1c6f-4c5a-c3cc-3791af382213"
      },
      "outputs": [
        {
          "data": {
            "text/plain": [
              "[]"
            ]
          },
          "execution_count": 341,
          "metadata": {},
          "output_type": "execute_result"
        }
      ],
      "source": [
        "\n",
        "vector_store.get_by_ids(['c0cc193e-bfc2-4329-9d33-fd2d4d46a131'])"
      ]
    },
    {
      "cell_type": "code",
      "execution_count": null,
      "metadata": {
        "id": "PIc2ecRALnXd"
      },
      "outputs": [],
      "source": [
        "\n",
        "retriever = vector_store.as_retriever(search_type=\"similarity\", search_kwargs={\"k\": 4})"
      ]
    },
    {
      "cell_type": "code",
      "execution_count": null,
      "metadata": {
        "colab": {
          "base_uri": "https://localhost:8080/"
        },
        "id": "KTIZuJJKLnZa",
        "outputId": "81d4674e-2216-4013-9398-d5979c6360f3"
      },
      "outputs": [
        {
          "data": {
            "text/plain": [
              "[Document(id='46d8171a-2628-4c0e-b43c-2a40eff8a9f8', metadata={}, page_content=\"of our vision at the start of deepmind was that we would use games very heavily uh as our main testing ground certainly to begin with um because it's super efficient to use games and also you know it's very easy to have metrics to see how well your systems are improving and what direction your ideas are going in and whether you're making incremental improvements and because those games are often rooted in something that humans did for a long time beforehand there's already a strong set of rules like it's already a damn good benchmark yes it's really good for so many reasons because you've got you've got you've got clear measures of how good humans can be at these things and in some cases like go we've been playing it for thousands of years um and and uh often they have scores or at least win conditions so it's very easy for reward learning systems to get a reward it's very easy to specify what that reward is um and uh also at the end it's easy to you know to test uh externally you\"),\n",
              " Document(id='83619178-9598-4025-937f-cf034160c00d', metadata={}, page_content=\"right direction so so that that was one reason we pushed so hard on that and that's and just going back to your early question about organization the other big thing that i think we innovated with at deepmind to encourage invention and and uh and innovation was the multi-disciplinary organization we built and we still have today so deepmind originally was a confluence of the of the most cutting-edge knowledge in neuroscience with machine learning engineering and mathematics right and and gaming and then since then we built that out even further so we have philosophers here and and uh by you know ethicists but also other types of scientists physicists and so on um and that's what brings together i tried to build a sort of um new type of bell labs but in this golden era right uh and and a new expression of that um to try and uh foster this incredible sort of innovation machine so talking about the humans in the machine the mind itself is a learning machine with a lots of amazing human\"),\n",
              " Document(id='450c9052-16a0-4471-a00f-9d2f8545445b', metadata={}, page_content=\"the following is a conversation with demus hasabis ceo and co-founder of deepmind a company that has published and builds some of the most incredible artificial intelligence systems in the history of computing including alfred zero that learned all by itself to play the game of gold better than any human in the world and alpha fold two that solved protein folding both tasks considered nearly impossible for a very long time demus is widely considered to be one of the most brilliant and impactful humans in the history of artificial intelligence and science and engineering in general this was truly an honor and a pleasure for me to finally sit down with him for this conversation and i'm sure we will talk many times again in the future this is the lex friedman podcast to support it please check out our sponsors in the description and now dear friends here's demis hassabis let's start with a bit of a personal question am i an ai program you wrote to interview people until i get good enough\"),\n",
              " Document(id='0f7ff002-a097-40cf-827a-4a590e2b3cbc', metadata={}, page_content=\"of people and also what's the ethical thing because you can you can make a lot of people happy by creating a meaningful deep experience with a system that's faking it before it makes it yeah and i i don't is a are we the right or who is to say what's the right thing to do should ai always be tools like why why why are we constraining ais to always be tools as opposed to friends yeah i think well i mean these are you know you know fantastic questions and and also critical ones and we've been thinking about this uh since the start of d minor before that because we planned for success and you know how how you know you know however remote that looked like back in 2010 and we've always had sort of these ethical considerations as fundamental at deepmind um and my current thinking on the language models is and and large models is they're not ready we don't understand them well enough yet um and you know in terms of analysis tools and and guard rails what they can and can't do and so on to\")]"
            ]
          },
          "execution_count": 343,
          "metadata": {},
          "output_type": "execute_result"
        }
      ],
      "source": [
        "\n",
        "retriever.invoke('What is deepmind')"
      ]
    },
    {
      "cell_type": "code",
      "execution_count": null,
      "metadata": {
        "id": "Zm-MCrHHLnc8"
      },
      "outputs": [],
      "source": [
        "\n",
        "from langchain_huggingface import ChatHuggingFace, HuggingFaceEndpoint\n",
        "llm = HuggingFaceEndpoint(\n",
        "    repo_id=\"deepseek-ai/DeepSeek-R1-0528\",  # or any from the table\n",
        "    task=\"text-generation\"\n",
        ")\n",
        "\n",
        "# Wrap for chat-style usage\n",
        "model = ChatHuggingFace(llm=llm)"
      ]
    },
    {
      "cell_type": "code",
      "execution_count": null,
      "metadata": {
        "id": "H9Wp6-6NLnfz"
      },
      "outputs": [],
      "source": [
        "\n",
        "prompt = PromptTemplate(\n",
        "    input_variables=[\"context\", \"question\"],\n",
        "    template=\"\"\"\n",
        "You are an expert assistant that answers questions based on a YouTube transcript.\n",
        "\n",
        "Here is the transcript chunk:\\n\\n{context}\n",
        "\n",
        "Answer the following question as clearly and specifically as possible:\n",
        "{question}\n",
        "\"\"\"\n",
        ")"
      ]
    },
    {
      "cell_type": "code",
      "execution_count": null,
      "metadata": {
        "id": "_VymGqwVLnhn"
      },
      "outputs": [],
      "source": [
        "\n",
        "question          = \"is the topic of nuclear fusion discussed in this video? if yes then what was discussed\"\n",
        "retrieved_docs    = retriever.invoke(question)"
      ]
    },
    {
      "cell_type": "code",
      "execution_count": null,
      "metadata": {
        "colab": {
          "base_uri": "https://localhost:8080/"
        },
        "id": "AlGl-OryLnj9",
        "outputId": "e8a08bb6-a351-416e-dbf4-bbc2857d1478"
      },
      "outputs": [
        {
          "data": {
            "text/plain": [
              "[Document(id='7c69678b-b979-45d7-8ba1-99a7aee7fff0', metadata={}, page_content=\"is we would like to learn that instead and they also had a simulator of these plasma so there were lots of criteria that matched what we we like to to to use so can ai eventually solve nuclear fusion well so we with this problem and we published it in a nature paper last year uh we held the fusion that we held the plasma in specific shapes so actually it's almost like carving the plasma into different shapes and control and hold it there for the record amount of time so um so that's one of the problems of of fusion sort of um solved so i have a controller that's able to no matter the shape uh contain it continue yeah contain it and hold it in structure and there's different shapes that are better for for the energy productions called droplets and and and so on so um so that was huge and now we're looking we're talking to lots of fusion startups to see what's the next problem we can tackle uh in the fusion area so another fascinating place in a paper title pushing the frontiers of\"),\n",
              " Document(id='93e96440-a8e6-4466-82a4-1ff2c29ee6b4', metadata={}, page_content=\"help with now fusion has many challenges mostly physics material science and engineering challenges as well to build these massive fusion reactors and contain the plasma and what we try to do whenever we go into a new field to apply our systems is we look for um we talk to domain experts we try and find the best people in the world to collaborate with um in this case in fusion we we collaborated with epfl in switzerland the swiss technical institute who are amazing they have a test reactor that they were willing to let us use which you know i double checked with the team we were going to use carefully and safely i was impressed they managed to persuade them to let us use it and um and it's a it's an amazing test reactor they have there and they try all sorts of pretty crazy experiments on it and um the the the what we tend to look at is if we go into a new domain like fusion what are all the bottleneck problems uh like thinking from first principles you know what are all the\"),\n",
              " Document(id='4b46a29f-444e-471b-ae31-bf29fc52cbe3', metadata={}, page_content=\"plasmas to deep reinforcement learning so you uh you're seeking to solve nuclear fusion with deep rl so it's doing control of high temperature plasmas can you explain this work and uh can ai eventually solve nuclear fusion it's been very fun last year or two and very productive because we've been taking off a lot of my dream projects if you like of things that i've collected over the years of areas of science that i would like to i think could be very transformative if we helped accelerate and uh really interesting problems scientific challenges in of themselves this is energy so energy yes exactly so energy and climate so we talked about disease and biology as being one of the biggest places i think ai can help with i think energy and climate uh is another one so maybe they would be my top two um and fusion is one one area i think ai can help with now fusion has many challenges mostly physics material science and engineering challenges as well to build these massive fusion reactors\"),\n",
              " Document(id='c666f25c-3d4b-4b0d-b519-6ef835d6b296', metadata={}, page_content=\"at is if we go into a new domain like fusion what are all the bottleneck problems uh like thinking from first principles you know what are all the bottleneck problems that are still stopping fusion working today and then we look at we you know we get a fusion expert to tell us and then we look at those bottlenecks and we look at the ones which ones are amenable to our ai methods today yes right and and and then and would be interesting from a research perspective from our point of view from an ai point of view and that would address one of their bottlenecks and in this case plasma control was was perfect so you know the plasma it's a million degrees celsius something like that it's hotter than the sun and there's obviously no material that can contain it so they have to be containing these magnetic very powerful superconducting magnetic fields but the problem is plasma is pretty unstable as you imagine you're kind of holding a mini sun mini star in a reactor so you know you you kind\")]"
            ]
          },
          "execution_count": 347,
          "metadata": {},
          "output_type": "execute_result"
        }
      ],
      "source": [
        "\n",
        "retrieved_docs"
      ]
    },
    {
      "cell_type": "code",
      "execution_count": null,
      "metadata": {
        "colab": {
          "base_uri": "https://localhost:8080/",
          "height": 91
        },
        "id": "HhMUJY3oLnms",
        "outputId": "6d119d4a-1d83-4394-ad2c-bf427449f6ac"
      },
      "outputs": [
        {
          "data": {
            "application/vnd.google.colaboratory.intrinsic+json": {
              "type": "string"
            },
            "text/plain": [
              "\"is we would like to learn that instead and they also had a simulator of these plasma so there were lots of criteria that matched what we we like to to to use so can ai eventually solve nuclear fusion well so we with this problem and we published it in a nature paper last year uh we held the fusion that we held the plasma in specific shapes so actually it's almost like carving the plasma into different shapes and control and hold it there for the record amount of time so um so that's one of the problems of of fusion sort of um solved so i have a controller that's able to no matter the shape uh contain it continue yeah contain it and hold it in structure and there's different shapes that are better for for the energy productions called droplets and and and so on so um so that was huge and now we're looking we're talking to lots of fusion startups to see what's the next problem we can tackle uh in the fusion area so another fascinating place in a paper title pushing the frontiers of\\n\\nhelp with now fusion has many challenges mostly physics material science and engineering challenges as well to build these massive fusion reactors and contain the plasma and what we try to do whenever we go into a new field to apply our systems is we look for um we talk to domain experts we try and find the best people in the world to collaborate with um in this case in fusion we we collaborated with epfl in switzerland the swiss technical institute who are amazing they have a test reactor that they were willing to let us use which you know i double checked with the team we were going to use carefully and safely i was impressed they managed to persuade them to let us use it and um and it's a it's an amazing test reactor they have there and they try all sorts of pretty crazy experiments on it and um the the the what we tend to look at is if we go into a new domain like fusion what are all the bottleneck problems uh like thinking from first principles you know what are all the\\n\\nplasmas to deep reinforcement learning so you uh you're seeking to solve nuclear fusion with deep rl so it's doing control of high temperature plasmas can you explain this work and uh can ai eventually solve nuclear fusion it's been very fun last year or two and very productive because we've been taking off a lot of my dream projects if you like of things that i've collected over the years of areas of science that i would like to i think could be very transformative if we helped accelerate and uh really interesting problems scientific challenges in of themselves this is energy so energy yes exactly so energy and climate so we talked about disease and biology as being one of the biggest places i think ai can help with i think energy and climate uh is another one so maybe they would be my top two um and fusion is one one area i think ai can help with now fusion has many challenges mostly physics material science and engineering challenges as well to build these massive fusion reactors\\n\\nat is if we go into a new domain like fusion what are all the bottleneck problems uh like thinking from first principles you know what are all the bottleneck problems that are still stopping fusion working today and then we look at we you know we get a fusion expert to tell us and then we look at those bottlenecks and we look at the ones which ones are amenable to our ai methods today yes right and and and then and would be interesting from a research perspective from our point of view from an ai point of view and that would address one of their bottlenecks and in this case plasma control was was perfect so you know the plasma it's a million degrees celsius something like that it's hotter than the sun and there's obviously no material that can contain it so they have to be containing these magnetic very powerful superconducting magnetic fields but the problem is plasma is pretty unstable as you imagine you're kind of holding a mini sun mini star in a reactor so you know you you kind\""
            ]
          },
          "execution_count": 348,
          "metadata": {},
          "output_type": "execute_result"
        }
      ],
      "source": [
        "\n",
        "context_text = \"\\n\\n\".join(doc.page_content for doc in retrieved_docs)\n",
        "context_text"
      ]
    },
    {
      "cell_type": "code",
      "execution_count": null,
      "metadata": {
        "id": "put5rlLHLnpj"
      },
      "outputs": [],
      "source": [
        "\n",
        "final_prompt = prompt.invoke({\"context\": context_text, \"question\": question})"
      ]
    },
    {
      "cell_type": "code",
      "execution_count": null,
      "metadata": {
        "colab": {
          "base_uri": "https://localhost:8080/"
        },
        "id": "F-W4JaFELnsT",
        "outputId": "75394cb2-b6e0-4e2f-a91c-854046f46878"
      },
      "outputs": [
        {
          "data": {
            "text/plain": [
              "StringPromptValue(text=\"\\nYou are an expert assistant that answers questions based on a YouTube transcript.\\n\\nHere is the transcript chunk:\\n\\nis we would like to learn that instead and they also had a simulator of these plasma so there were lots of criteria that matched what we we like to to to use so can ai eventually solve nuclear fusion well so we with this problem and we published it in a nature paper last year uh we held the fusion that we held the plasma in specific shapes so actually it's almost like carving the plasma into different shapes and control and hold it there for the record amount of time so um so that's one of the problems of of fusion sort of um solved so i have a controller that's able to no matter the shape uh contain it continue yeah contain it and hold it in structure and there's different shapes that are better for for the energy productions called droplets and and and so on so um so that was huge and now we're looking we're talking to lots of fusion startups to see what's the next problem we can tackle uh in the fusion area so another fascinating place in a paper title pushing the frontiers of\\n\\nhelp with now fusion has many challenges mostly physics material science and engineering challenges as well to build these massive fusion reactors and contain the plasma and what we try to do whenever we go into a new field to apply our systems is we look for um we talk to domain experts we try and find the best people in the world to collaborate with um in this case in fusion we we collaborated with epfl in switzerland the swiss technical institute who are amazing they have a test reactor that they were willing to let us use which you know i double checked with the team we were going to use carefully and safely i was impressed they managed to persuade them to let us use it and um and it's a it's an amazing test reactor they have there and they try all sorts of pretty crazy experiments on it and um the the the what we tend to look at is if we go into a new domain like fusion what are all the bottleneck problems uh like thinking from first principles you know what are all the\\n\\nplasmas to deep reinforcement learning so you uh you're seeking to solve nuclear fusion with deep rl so it's doing control of high temperature plasmas can you explain this work and uh can ai eventually solve nuclear fusion it's been very fun last year or two and very productive because we've been taking off a lot of my dream projects if you like of things that i've collected over the years of areas of science that i would like to i think could be very transformative if we helped accelerate and uh really interesting problems scientific challenges in of themselves this is energy so energy yes exactly so energy and climate so we talked about disease and biology as being one of the biggest places i think ai can help with i think energy and climate uh is another one so maybe they would be my top two um and fusion is one one area i think ai can help with now fusion has many challenges mostly physics material science and engineering challenges as well to build these massive fusion reactors\\n\\nat is if we go into a new domain like fusion what are all the bottleneck problems uh like thinking from first principles you know what are all the bottleneck problems that are still stopping fusion working today and then we look at we you know we get a fusion expert to tell us and then we look at those bottlenecks and we look at the ones which ones are amenable to our ai methods today yes right and and and then and would be interesting from a research perspective from our point of view from an ai point of view and that would address one of their bottlenecks and in this case plasma control was was perfect so you know the plasma it's a million degrees celsius something like that it's hotter than the sun and there's obviously no material that can contain it so they have to be containing these magnetic very powerful superconducting magnetic fields but the problem is plasma is pretty unstable as you imagine you're kind of holding a mini sun mini star in a reactor so you know you you kind\\n\\nAnswer the following question as clearly and specifically as possible:\\nis the topic of nuclear fusion discussed in this video? if yes then what was discussed\\n\")"
            ]
          },
          "execution_count": 350,
          "metadata": {},
          "output_type": "execute_result"
        }
      ],
      "source": [
        "\n",
        "final_prompt"
      ]
    },
    {
      "cell_type": "code",
      "execution_count": null,
      "metadata": {
        "colab": {
          "base_uri": "https://localhost:8080/",
          "height": 469
        },
        "id": "wdPe1SGJLk6_",
        "outputId": "704d164e-e73c-4a3e-89e6-372d5cd87139"
      },
      "outputs": [
        {
          "ename": "HfHubHTTPError",
          "evalue": "401 Client Error: Unauthorized for url: https://router.huggingface.co/featherless-ai/v1/chat/completions (Request ID: Root=1-685a7cd0-0ca9774761070b924e64ea88;4bebc17f-e064-4b9a-85df-6c590002680e)\n\nInvalid credentials in Authorization header",
          "output_type": "error",
          "traceback": [
            "\u001b[0;31m---------------------------------------------------------------------------\u001b[0m",
            "\u001b[0;31mHTTPError\u001b[0m                                 Traceback (most recent call last)",
            "\u001b[0;32m/usr/local/lib/python3.11/dist-packages/huggingface_hub/utils/_http.py\u001b[0m in \u001b[0;36mhf_raise_for_status\u001b[0;34m(response, endpoint_name)\u001b[0m\n\u001b[1;32m    408\u001b[0m     \u001b[0;32mtry\u001b[0m\u001b[0;34m:\u001b[0m\u001b[0;34m\u001b[0m\u001b[0;34m\u001b[0m\u001b[0m\n\u001b[0;32m--> 409\u001b[0;31m         \u001b[0mresponse\u001b[0m\u001b[0;34m.\u001b[0m\u001b[0mraise_for_status\u001b[0m\u001b[0;34m(\u001b[0m\u001b[0;34m)\u001b[0m\u001b[0;34m\u001b[0m\u001b[0;34m\u001b[0m\u001b[0m\n\u001b[0m\u001b[1;32m    410\u001b[0m     \u001b[0;32mexcept\u001b[0m \u001b[0mHTTPError\u001b[0m \u001b[0;32mas\u001b[0m \u001b[0me\u001b[0m\u001b[0;34m:\u001b[0m\u001b[0;34m\u001b[0m\u001b[0;34m\u001b[0m\u001b[0m\n",
            "\u001b[0;32m/usr/local/lib/python3.11/dist-packages/requests/models.py\u001b[0m in \u001b[0;36mraise_for_status\u001b[0;34m(self)\u001b[0m\n\u001b[1;32m   1023\u001b[0m         \u001b[0;32mif\u001b[0m \u001b[0mhttp_error_msg\u001b[0m\u001b[0;34m:\u001b[0m\u001b[0;34m\u001b[0m\u001b[0;34m\u001b[0m\u001b[0m\n\u001b[0;32m-> 1024\u001b[0;31m             \u001b[0;32mraise\u001b[0m \u001b[0mHTTPError\u001b[0m\u001b[0;34m(\u001b[0m\u001b[0mhttp_error_msg\u001b[0m\u001b[0;34m,\u001b[0m \u001b[0mresponse\u001b[0m\u001b[0;34m=\u001b[0m\u001b[0mself\u001b[0m\u001b[0;34m)\u001b[0m\u001b[0;34m\u001b[0m\u001b[0;34m\u001b[0m\u001b[0m\n\u001b[0m\u001b[1;32m   1025\u001b[0m \u001b[0;34m\u001b[0m\u001b[0m\n",
            "\u001b[0;31mHTTPError\u001b[0m: 401 Client Error: Unauthorized for url: https://router.huggingface.co/featherless-ai/v1/chat/completions",
            "\nThe above exception was the direct cause of the following exception:\n",
            "\u001b[0;31mHfHubHTTPError\u001b[0m                            Traceback (most recent call last)",
            "\u001b[0;32m/tmp/ipython-input-351-4165902339.py\u001b[0m in \u001b[0;36m<cell line: 0>\u001b[0;34m()\u001b[0m\n\u001b[0;32m----> 1\u001b[0;31m \u001b[0manswer\u001b[0m \u001b[0;34m=\u001b[0m \u001b[0mmodel\u001b[0m\u001b[0;34m.\u001b[0m\u001b[0minvoke\u001b[0m\u001b[0;34m(\u001b[0m\u001b[0mfinal_prompt\u001b[0m\u001b[0;34m)\u001b[0m\u001b[0;34m\u001b[0m\u001b[0;34m\u001b[0m\u001b[0m\n\u001b[0m\u001b[1;32m      2\u001b[0m \u001b[0mprint\u001b[0m\u001b[0;34m(\u001b[0m\u001b[0manswer\u001b[0m\u001b[0;34m.\u001b[0m\u001b[0mcontent\u001b[0m\u001b[0;34m)\u001b[0m\u001b[0;34m\u001b[0m\u001b[0;34m\u001b[0m\u001b[0m\n",
            "\u001b[0;32m/usr/local/lib/python3.11/dist-packages/langchain_core/language_models/chat_models.py\u001b[0m in \u001b[0;36minvoke\u001b[0;34m(self, input, config, stop, **kwargs)\u001b[0m\n\u001b[1;32m    370\u001b[0m         return cast(\n\u001b[1;32m    371\u001b[0m             \u001b[0;34m\"ChatGeneration\"\u001b[0m\u001b[0;34m,\u001b[0m\u001b[0;34m\u001b[0m\u001b[0;34m\u001b[0m\u001b[0m\n\u001b[0;32m--> 372\u001b[0;31m             self.generate_prompt(\n\u001b[0m\u001b[1;32m    373\u001b[0m                 \u001b[0;34m[\u001b[0m\u001b[0mself\u001b[0m\u001b[0;34m.\u001b[0m\u001b[0m_convert_input\u001b[0m\u001b[0;34m(\u001b[0m\u001b[0minput\u001b[0m\u001b[0;34m)\u001b[0m\u001b[0;34m]\u001b[0m\u001b[0;34m,\u001b[0m\u001b[0;34m\u001b[0m\u001b[0;34m\u001b[0m\u001b[0m\n\u001b[1;32m    374\u001b[0m                 \u001b[0mstop\u001b[0m\u001b[0;34m=\u001b[0m\u001b[0mstop\u001b[0m\u001b[0;34m,\u001b[0m\u001b[0;34m\u001b[0m\u001b[0;34m\u001b[0m\u001b[0m\n",
            "\u001b[0;32m/usr/local/lib/python3.11/dist-packages/langchain_core/language_models/chat_models.py\u001b[0m in \u001b[0;36mgenerate_prompt\u001b[0;34m(self, prompts, stop, callbacks, **kwargs)\u001b[0m\n\u001b[1;32m    955\u001b[0m     ) -> LLMResult:\n\u001b[1;32m    956\u001b[0m         \u001b[0mprompt_messages\u001b[0m \u001b[0;34m=\u001b[0m \u001b[0;34m[\u001b[0m\u001b[0mp\u001b[0m\u001b[0;34m.\u001b[0m\u001b[0mto_messages\u001b[0m\u001b[0;34m(\u001b[0m\u001b[0;34m)\u001b[0m \u001b[0;32mfor\u001b[0m \u001b[0mp\u001b[0m \u001b[0;32min\u001b[0m \u001b[0mprompts\u001b[0m\u001b[0;34m]\u001b[0m\u001b[0;34m\u001b[0m\u001b[0;34m\u001b[0m\u001b[0m\n\u001b[0;32m--> 957\u001b[0;31m         \u001b[0;32mreturn\u001b[0m \u001b[0mself\u001b[0m\u001b[0;34m.\u001b[0m\u001b[0mgenerate\u001b[0m\u001b[0;34m(\u001b[0m\u001b[0mprompt_messages\u001b[0m\u001b[0;34m,\u001b[0m \u001b[0mstop\u001b[0m\u001b[0;34m=\u001b[0m\u001b[0mstop\u001b[0m\u001b[0;34m,\u001b[0m \u001b[0mcallbacks\u001b[0m\u001b[0;34m=\u001b[0m\u001b[0mcallbacks\u001b[0m\u001b[0;34m,\u001b[0m \u001b[0;34m**\u001b[0m\u001b[0mkwargs\u001b[0m\u001b[0;34m)\u001b[0m\u001b[0;34m\u001b[0m\u001b[0;34m\u001b[0m\u001b[0m\n\u001b[0m\u001b[1;32m    958\u001b[0m \u001b[0;34m\u001b[0m\u001b[0m\n\u001b[1;32m    959\u001b[0m     \u001b[0;34m@\u001b[0m\u001b[0moverride\u001b[0m\u001b[0;34m\u001b[0m\u001b[0;34m\u001b[0m\u001b[0m\n",
            "\u001b[0;32m/usr/local/lib/python3.11/dist-packages/langchain_core/language_models/chat_models.py\u001b[0m in \u001b[0;36mgenerate\u001b[0;34m(self, messages, stop, callbacks, tags, metadata, run_name, run_id, **kwargs)\u001b[0m\n\u001b[1;32m    774\u001b[0m             \u001b[0;32mtry\u001b[0m\u001b[0;34m:\u001b[0m\u001b[0;34m\u001b[0m\u001b[0;34m\u001b[0m\u001b[0m\n\u001b[1;32m    775\u001b[0m                 results.append(\n\u001b[0;32m--> 776\u001b[0;31m                     self._generate_with_cache(\n\u001b[0m\u001b[1;32m    777\u001b[0m                         \u001b[0mm\u001b[0m\u001b[0;34m,\u001b[0m\u001b[0;34m\u001b[0m\u001b[0;34m\u001b[0m\u001b[0m\n\u001b[1;32m    778\u001b[0m                         \u001b[0mstop\u001b[0m\u001b[0;34m=\u001b[0m\u001b[0mstop\u001b[0m\u001b[0;34m,\u001b[0m\u001b[0;34m\u001b[0m\u001b[0;34m\u001b[0m\u001b[0m\n",
            "\u001b[0;32m/usr/local/lib/python3.11/dist-packages/langchain_core/language_models/chat_models.py\u001b[0m in \u001b[0;36m_generate_with_cache\u001b[0;34m(self, messages, stop, run_manager, **kwargs)\u001b[0m\n\u001b[1;32m   1020\u001b[0m             \u001b[0mresult\u001b[0m \u001b[0;34m=\u001b[0m \u001b[0mgenerate_from_stream\u001b[0m\u001b[0;34m(\u001b[0m\u001b[0miter\u001b[0m\u001b[0;34m(\u001b[0m\u001b[0mchunks\u001b[0m\u001b[0;34m)\u001b[0m\u001b[0;34m)\u001b[0m\u001b[0;34m\u001b[0m\u001b[0;34m\u001b[0m\u001b[0m\n\u001b[1;32m   1021\u001b[0m         \u001b[0;32melif\u001b[0m \u001b[0minspect\u001b[0m\u001b[0;34m.\u001b[0m\u001b[0msignature\u001b[0m\u001b[0;34m(\u001b[0m\u001b[0mself\u001b[0m\u001b[0;34m.\u001b[0m\u001b[0m_generate\u001b[0m\u001b[0;34m)\u001b[0m\u001b[0;34m.\u001b[0m\u001b[0mparameters\u001b[0m\u001b[0;34m.\u001b[0m\u001b[0mget\u001b[0m\u001b[0;34m(\u001b[0m\u001b[0;34m\"run_manager\"\u001b[0m\u001b[0;34m)\u001b[0m\u001b[0;34m:\u001b[0m\u001b[0;34m\u001b[0m\u001b[0;34m\u001b[0m\u001b[0m\n\u001b[0;32m-> 1022\u001b[0;31m             result = self._generate(\n\u001b[0m\u001b[1;32m   1023\u001b[0m                 \u001b[0mmessages\u001b[0m\u001b[0;34m,\u001b[0m \u001b[0mstop\u001b[0m\u001b[0;34m=\u001b[0m\u001b[0mstop\u001b[0m\u001b[0;34m,\u001b[0m \u001b[0mrun_manager\u001b[0m\u001b[0;34m=\u001b[0m\u001b[0mrun_manager\u001b[0m\u001b[0;34m,\u001b[0m \u001b[0;34m**\u001b[0m\u001b[0mkwargs\u001b[0m\u001b[0;34m\u001b[0m\u001b[0;34m\u001b[0m\u001b[0m\n\u001b[1;32m   1024\u001b[0m             )\n",
            "\u001b[0;32m/usr/local/lib/python3.11/dist-packages/langchain_huggingface/chat_models/huggingface.py\u001b[0m in \u001b[0;36m_generate\u001b[0;34m(self, messages, stop, run_manager, stream, **kwargs)\u001b[0m\n\u001b[1;32m    572\u001b[0m                 \u001b[0;34m**\u001b[0m\u001b[0mkwargs\u001b[0m\u001b[0;34m,\u001b[0m\u001b[0;34m\u001b[0m\u001b[0;34m\u001b[0m\u001b[0m\n\u001b[1;32m    573\u001b[0m             }\n\u001b[0;32m--> 574\u001b[0;31m             \u001b[0manswer\u001b[0m \u001b[0;34m=\u001b[0m \u001b[0mself\u001b[0m\u001b[0;34m.\u001b[0m\u001b[0mllm\u001b[0m\u001b[0;34m.\u001b[0m\u001b[0mclient\u001b[0m\u001b[0;34m.\u001b[0m\u001b[0mchat_completion\u001b[0m\u001b[0;34m(\u001b[0m\u001b[0mmessages\u001b[0m\u001b[0;34m=\u001b[0m\u001b[0mmessage_dicts\u001b[0m\u001b[0;34m,\u001b[0m \u001b[0;34m**\u001b[0m\u001b[0mparams\u001b[0m\u001b[0;34m)\u001b[0m\u001b[0;34m\u001b[0m\u001b[0;34m\u001b[0m\u001b[0m\n\u001b[0m\u001b[1;32m    575\u001b[0m             \u001b[0;32mreturn\u001b[0m \u001b[0mself\u001b[0m\u001b[0;34m.\u001b[0m\u001b[0m_create_chat_result\u001b[0m\u001b[0;34m(\u001b[0m\u001b[0manswer\u001b[0m\u001b[0;34m)\u001b[0m\u001b[0;34m\u001b[0m\u001b[0;34m\u001b[0m\u001b[0m\n\u001b[1;32m    576\u001b[0m         \u001b[0;32melse\u001b[0m\u001b[0;34m:\u001b[0m\u001b[0;34m\u001b[0m\u001b[0;34m\u001b[0m\u001b[0m\n",
            "\u001b[0;32m/usr/local/lib/python3.11/dist-packages/huggingface_hub/inference/_client.py\u001b[0m in \u001b[0;36mchat_completion\u001b[0;34m(self, messages, model, stream, frequency_penalty, logit_bias, logprobs, max_tokens, n, presence_penalty, response_format, seed, stop, stream_options, temperature, tool_choice, tool_prompt, tools, top_logprobs, top_p, extra_body)\u001b[0m\n\u001b[1;32m    922\u001b[0m             \u001b[0mapi_key\u001b[0m\u001b[0;34m=\u001b[0m\u001b[0mself\u001b[0m\u001b[0;34m.\u001b[0m\u001b[0mtoken\u001b[0m\u001b[0;34m,\u001b[0m\u001b[0;34m\u001b[0m\u001b[0;34m\u001b[0m\u001b[0m\n\u001b[1;32m    923\u001b[0m         )\n\u001b[0;32m--> 924\u001b[0;31m         \u001b[0mdata\u001b[0m \u001b[0;34m=\u001b[0m \u001b[0mself\u001b[0m\u001b[0;34m.\u001b[0m\u001b[0m_inner_post\u001b[0m\u001b[0;34m(\u001b[0m\u001b[0mrequest_parameters\u001b[0m\u001b[0;34m,\u001b[0m \u001b[0mstream\u001b[0m\u001b[0;34m=\u001b[0m\u001b[0mstream\u001b[0m\u001b[0;34m)\u001b[0m\u001b[0;34m\u001b[0m\u001b[0;34m\u001b[0m\u001b[0m\n\u001b[0m\u001b[1;32m    925\u001b[0m \u001b[0;34m\u001b[0m\u001b[0m\n\u001b[1;32m    926\u001b[0m         \u001b[0;32mif\u001b[0m \u001b[0mstream\u001b[0m\u001b[0;34m:\u001b[0m\u001b[0;34m\u001b[0m\u001b[0;34m\u001b[0m\u001b[0m\n",
            "\u001b[0;32m/usr/local/lib/python3.11/dist-packages/huggingface_hub/inference/_client.py\u001b[0m in \u001b[0;36m_inner_post\u001b[0;34m(self, request_parameters, stream)\u001b[0m\n\u001b[1;32m    278\u001b[0m \u001b[0;34m\u001b[0m\u001b[0m\n\u001b[1;32m    279\u001b[0m         \u001b[0;32mtry\u001b[0m\u001b[0;34m:\u001b[0m\u001b[0;34m\u001b[0m\u001b[0;34m\u001b[0m\u001b[0m\n\u001b[0;32m--> 280\u001b[0;31m             \u001b[0mhf_raise_for_status\u001b[0m\u001b[0;34m(\u001b[0m\u001b[0mresponse\u001b[0m\u001b[0;34m)\u001b[0m\u001b[0;34m\u001b[0m\u001b[0;34m\u001b[0m\u001b[0m\n\u001b[0m\u001b[1;32m    281\u001b[0m             \u001b[0;32mreturn\u001b[0m \u001b[0mresponse\u001b[0m\u001b[0;34m.\u001b[0m\u001b[0miter_lines\u001b[0m\u001b[0;34m(\u001b[0m\u001b[0;34m)\u001b[0m \u001b[0;32mif\u001b[0m \u001b[0mstream\u001b[0m \u001b[0;32melse\u001b[0m \u001b[0mresponse\u001b[0m\u001b[0;34m.\u001b[0m\u001b[0mcontent\u001b[0m\u001b[0;34m\u001b[0m\u001b[0;34m\u001b[0m\u001b[0m\n\u001b[1;32m    282\u001b[0m         \u001b[0;32mexcept\u001b[0m \u001b[0mHTTPError\u001b[0m \u001b[0;32mas\u001b[0m \u001b[0merror\u001b[0m\u001b[0;34m:\u001b[0m\u001b[0;34m\u001b[0m\u001b[0;34m\u001b[0m\u001b[0m\n",
            "\u001b[0;32m/usr/local/lib/python3.11/dist-packages/huggingface_hub/utils/_http.py\u001b[0m in \u001b[0;36mhf_raise_for_status\u001b[0;34m(response, endpoint_name)\u001b[0m\n\u001b[1;32m    480\u001b[0m         \u001b[0;31m# Convert `HTTPError` into a `HfHubHTTPError` to display request information\u001b[0m\u001b[0;34m\u001b[0m\u001b[0;34m\u001b[0m\u001b[0m\n\u001b[1;32m    481\u001b[0m         \u001b[0;31m# as well (request id and/or server error message)\u001b[0m\u001b[0;34m\u001b[0m\u001b[0;34m\u001b[0m\u001b[0m\n\u001b[0;32m--> 482\u001b[0;31m         \u001b[0;32mraise\u001b[0m \u001b[0m_format\u001b[0m\u001b[0;34m(\u001b[0m\u001b[0mHfHubHTTPError\u001b[0m\u001b[0;34m,\u001b[0m \u001b[0mstr\u001b[0m\u001b[0;34m(\u001b[0m\u001b[0me\u001b[0m\u001b[0;34m)\u001b[0m\u001b[0;34m,\u001b[0m \u001b[0mresponse\u001b[0m\u001b[0;34m)\u001b[0m \u001b[0;32mfrom\u001b[0m \u001b[0me\u001b[0m\u001b[0;34m\u001b[0m\u001b[0;34m\u001b[0m\u001b[0m\n\u001b[0m\u001b[1;32m    483\u001b[0m \u001b[0;34m\u001b[0m\u001b[0m\n\u001b[1;32m    484\u001b[0m \u001b[0;34m\u001b[0m\u001b[0m\n",
            "\u001b[0;31mHfHubHTTPError\u001b[0m: 401 Client Error: Unauthorized for url: https://router.huggingface.co/featherless-ai/v1/chat/completions (Request ID: Root=1-685a7cd0-0ca9774761070b924e64ea88;4bebc17f-e064-4b9a-85df-6c590002680e)\n\nInvalid credentials in Authorization header"
          ]
        }
      ],
      "source": [
        "answer = model.invoke(final_prompt)\n",
        "print(answer.content)"
      ]
    },
    {
      "cell_type": "code",
      "execution_count": null,
      "metadata": {
        "id": "VpGpphwiMtuF"
      },
      "outputs": [],
      "source": [
        "from langchain_core.runnables import RunnableParallel, RunnablePassthrough, RunnableLambda\n",
        "from langchain_core.output_parsers import StrOutputParser"
      ]
    },
    {
      "cell_type": "code",
      "execution_count": null,
      "metadata": {
        "id": "3CP_3ziHMtxM"
      },
      "outputs": [],
      "source": [
        "def format_docs(retrieved_docs):\n",
        "  context_text = \"\\n\\n\".join(doc.page_content for doc in retrieved_docs)\n",
        "  return context_text"
      ]
    },
    {
      "cell_type": "code",
      "execution_count": null,
      "metadata": {
        "id": "0odzKWFZMt07"
      },
      "outputs": [],
      "source": [
        "\n",
        "parallel_chain = RunnableParallel({\n",
        "    'context': retriever | RunnableLambda(format_docs),\n",
        "    'question': RunnablePassthrough()\n",
        "})"
      ]
    },
    {
      "cell_type": "code",
      "execution_count": null,
      "metadata": {
        "id": "jQIHYTEEMt4F"
      },
      "outputs": [],
      "source": [
        "\n",
        "parallel_chain.invoke('who is Demis')"
      ]
    },
    {
      "cell_type": "code",
      "execution_count": null,
      "metadata": {
        "id": "bv6g8bkkMt6S"
      },
      "outputs": [],
      "source": [
        "\n",
        "parser = StrOutputParser()"
      ]
    },
    {
      "cell_type": "code",
      "execution_count": null,
      "metadata": {
        "id": "rwrDn3OKMt8w"
      },
      "outputs": [],
      "source": [
        "\n",
        "main_chain = parallel_chain | prompt | model | parser"
      ]
    },
    {
      "cell_type": "code",
      "execution_count": null,
      "metadata": {
        "id": "LqaEHCw6Mt-8"
      },
      "outputs": [],
      "source": [
        "\n",
        "main_chain.invoke('what is the Conversation Going on in the video')\n"
      ]
    },
    {
      "cell_type": "code",
      "execution_count": null,
      "metadata": {
        "id": "rNWkJ50DMuBB"
      },
      "outputs": [],
      "source": []
    }
  ],
  "metadata": {
    "colab": {
      "provenance": []
    },
    "kernelspec": {
      "display_name": "Python 3",
      "name": "python3"
    },
    "language_info": {
      "name": "python"
    }
  },
  "nbformat": 4,
  "nbformat_minor": 0
}
